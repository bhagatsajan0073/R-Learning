{
 "cells": [
  {
   "cell_type": "markdown",
   "metadata": {},
   "source": [
    "# Dummy Varibles in R"
   ]
  },
  {
   "cell_type": "code",
   "execution_count": 2,
   "metadata": {
    "collapsed": false,
    "scrolled": true
   },
   "outputs": [
    {
     "name": "stdout",
     "output_type": "stream",
     "text": [
      "       service\n",
      "1 very unhappy\n",
      "2      unhappy\n",
      "3      neutral\n",
      "4        happy\n",
      "5   very happy\n"
     ]
    }
   ],
   "source": [
    "survey <- data.frame(service=c('very unhappy','unhappy','neutral','happy','very happy'))\n",
    "print(survey)"
   ]
  },
  {
   "cell_type": "code",
   "execution_count": 3,
   "metadata": {
    "collapsed": false
   },
   "outputs": [
    {
     "name": "stdout",
     "output_type": "stream",
     "text": [
      "       service rank\n",
      "1 very unhappy    1\n",
      "2      unhappy    2\n",
      "3      neutral    3\n",
      "4        happy    4\n",
      "5   very happy    5\n"
     ]
    }
   ],
   "source": [
    "survey <- data.frame(service=c('very unhappy','unhappy','neutral','happy','very happy'), rank=c(1,2,3,4,5))\n",
    "print(survey)"
   ]
  },
  {
   "cell_type": "code",
   "execution_count": 17,
   "metadata": {
    "collapsed": false
   },
   "outputs": [],
   "source": [
    "library(caret) "
   ]
  },
  {
   "cell_type": "code",
   "execution_count": 18,
   "metadata": {
    "collapsed": true
   },
   "outputs": [],
   "source": [
    "?dummyVars"
   ]
  },
  {
   "cell_type": "code",
   "execution_count": 19,
   "metadata": {
    "collapsed": false
   },
   "outputs": [
    {
     "name": "stdout",
     "output_type": "stream",
     "text": [
      "  service.happy service.neutral service.unhappy service.very.happy\n",
      "1             0               0               0                  0\n",
      "2             0               0               1                  0\n",
      "3             0               1               0                  0\n",
      "4             1               0               0                  0\n",
      "5             0               0               0                  1\n",
      "  service.very.unhappy rank\n",
      "1                    1    1\n",
      "2                    0    2\n",
      "3                    0    3\n",
      "4                    0    4\n",
      "5                    0    5\n"
     ]
    }
   ],
   "source": [
    "dmy<-dummyVars(~.,data = survey)\n",
    "trsf <- data.frame(predict(dmy, newdata = survey))\n",
    "print(trsf)"
   ]
  },
  {
   "cell_type": "code",
   "execution_count": 20,
   "metadata": {
    "collapsed": false
   },
   "outputs": [
    {
     "data": {
      "text/html": [
       "<table>\n",
       "<thead><tr><th></th><th scope=col>id</th><th scope=col>gender</th><th scope=col>mood</th><th scope=col>outcome</th></tr></thead>\n",
       "<tbody>\n",
       "\t<tr><th scope=row>1</th><td>10   </td><td>male </td><td>happy</td><td>1    </td></tr>\n",
       "\t<tr><th scope=row>2</th><td>20    </td><td>female</td><td>sad   </td><td>1     </td></tr>\n",
       "\t<tr><th scope=row>3</th><td>30    </td><td>female</td><td>happy </td><td>0     </td></tr>\n",
       "\t<tr><th scope=row>4</th><td>40  </td><td>male</td><td>sad </td><td>0   </td></tr>\n",
       "\t<tr><th scope=row>5</th><td>50    </td><td>female</td><td>happy </td><td>0     </td></tr>\n",
       "</tbody>\n",
       "</table>\n"
      ],
      "text/latex": [
       "\\begin{tabular}{r|llll}\n",
       "  & id & gender & mood & outcome\\\\\n",
       "\\hline\n",
       "\t1 & 10    & male  & happy & 1    \\\\\n",
       "\t2 & 20     & female & sad    & 1     \\\\\n",
       "\t3 & 30     & female & happy  & 0     \\\\\n",
       "\t4 & 40   & male & sad  & 0   \\\\\n",
       "\t5 & 50     & female & happy  & 0     \\\\\n",
       "\\end{tabular}\n"
      ],
      "text/plain": [
       "  id gender  mood outcome\n",
       "1 10   male happy       1\n",
       "2 20 female   sad       1\n",
       "3 30 female happy       0\n",
       "4 40   male   sad       0\n",
       "5 50 female happy       0"
      ]
     },
     "metadata": {},
     "output_type": "display_data"
    }
   ],
   "source": [
    "customers <- data.frame(id=c(10,20,30,40,50),\n",
    "                        gender=c('male','female','female','male','female'), \n",
    "                        mood=c('happy','sad','happy','sad','happy'),\n",
    "                        outcome=c(1,1,0,0,0))\n",
    "customers"
   ]
  },
  {
   "cell_type": "code",
   "execution_count": 21,
   "metadata": {
    "collapsed": false
   },
   "outputs": [
    {
     "name": "stdout",
     "output_type": "stream",
     "text": [
      "  id gender.female gender.male mood.happy mood.sad outcome\n",
      "1 10             0           1          1        0       1\n",
      "2 20             1           0          0        1       1\n",
      "3 30             1           0          1        0       0\n",
      "4 40             0           1          0        1       0\n",
      "5 50             1           0          1        0       0\n",
      "'data.frame':\t5 obs. of  6 variables:\n",
      " $ service.happy       : num  0 0 0 1 0\n",
      " $ service.neutral     : num  0 0 1 0 0\n",
      " $ service.unhappy     : num  0 1 0 0 0\n",
      " $ service.very.happy  : num  0 0 0 0 1\n",
      " $ service.very.unhappy: num  1 0 0 0 0\n",
      " $ rank                : num  1 2 3 4 5\n",
      "NULL\n"
     ]
    }
   ],
   "source": [
    "dmy<-dummyVars(~.,data = customers)\n",
    "tsrf<-data.frame(predict(dmy,newdata = customers))\n",
    "print(tsrf)\n",
    "print(str(trsf))"
   ]
  },
  {
   "cell_type": "code",
   "execution_count": 22,
   "metadata": {
    "collapsed": false
   },
   "outputs": [
    {
     "name": "stdout",
     "output_type": "stream",
     "text": [
      "  gender.female gender.male\n",
      "1             0           1\n",
      "2             1           0\n",
      "3             1           0\n",
      "4             0           1\n",
      "5             1           0\n"
     ]
    }
   ],
   "source": [
    "customers <- data.frame(\n",
    "                id=c(10,20,30,40,50),\n",
    "                gender=c('male','female','female','male','female'),\n",
    "                mood=c('happy','sad','happy','sad','happy'),\n",
    "                outcome=c(1,1,0,0,0))\n",
    "\n",
    "dmy <- dummyVars(\" ~ gender\", data = customers)\n",
    "trsf <- data.frame(predict(dmy, newdata = customers))\n",
    "print(trsf)"
   ]
  },
  {
   "cell_type": "markdown",
   "metadata": {},
   "source": [
    "#### The fullRank parameter is worth mentioning here. The general rule for creating dummy variables is to have one less variable than the number of categories present to avoid perfect collinearity (dummy variable trap). You basically want to avoid highly correlated variables but it also save space. If you have a factor column comprised of two levels ‘male’ and ‘female’, then you don’t need to transform it into two columns, instead, you pick one of the variables and you are either female, if its a 1, or male if its a 0. "
   ]
  },
  {
   "cell_type": "code",
   "execution_count": 23,
   "metadata": {
    "collapsed": false
   },
   "outputs": [
    {
     "name": "stdout",
     "output_type": "stream",
     "text": [
      "  id gender.male mood.sad outcome\n",
      "1 10           1        0       1\n",
      "2 20           0        1       1\n",
      "3 30           0        0       0\n",
      "4 40           1        1       0\n",
      "5 50           0        0       0\n"
     ]
    }
   ],
   "source": [
    "customers <- data.frame(\n",
    "                id=c(10,20,30,40,50),\n",
    "                gender=c('male','female','female','male','female'),\n",
    "                mood=c('happy','sad','happy','sad','happy'),\n",
    "                outcome=c(1,1,0,0,0))\n",
    "\n",
    "dmy <- dummyVars(\" ~ .\", data = customers, fullRank=T)\n",
    "trsf <- data.frame(predict(dmy, newdata = customers))\n",
    "print(trsf)"
   ]
  }
 ],
 "metadata": {
  "anaconda-cloud": {},
  "kernelspec": {
   "display_name": "R",
   "language": "R",
   "name": "ir"
  },
  "language_info": {
   "codemirror_mode": "r",
   "file_extension": ".r",
   "mimetype": "text/x-r-source",
   "name": "R",
   "pygments_lexer": "r",
   "version": "3.3.1"
  }
 },
 "nbformat": 4,
 "nbformat_minor": 1
}
